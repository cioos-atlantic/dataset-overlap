{
 "cells": [
  {
   "cell_type": "markdown",
   "source": [
    "# Dataset Similarity\n",
    "\n",
    "## Step#1: Downloading Catalog"
   ],
   "metadata": {
    "collapsed": false
   },
   "id": "43d1156ad129fca2"
  },
  {
   "cell_type": "code",
   "execution_count": null,
   "id": "initial_id",
   "metadata": {
    "collapsed": true
   },
   "outputs": [],
   "source": [
    "import pickle\n",
    "import time\n",
    "from requests_html import HTMLSession\n",
    "from tqdm import tqdm\n",
    "\n",
    "base_url = \"https://catalogue.cioos.ca/api/3/action/\"\n",
    "ckan_url_ = f\"{base_url}package_list\"\n",
    "session = HTMLSession()\n",
    "# Send an HTTP GET request to the URL\n",
    "response = session.get(ckan_url_)\n",
    "# Render JavaScript if needed (optional)\n",
    "# response.html.render()\n",
    "json_list_links = response.json()\n",
    "all_elements = [r_id for r_id in json_list_links['result']]\n",
    "lst_of_das_dict = []\n",
    "for id__ in tqdm(all_elements):\n",
    "    new_requ_ = f\"{base_url}package_show?id={id__}\"\n",
    "    das_response = session.get(new_requ_)\n",
    "    ds_info_ = das_response.json()\n",
    "    lst_of_das_dict.append(ds_info_['result'])\n",
    "    time.sleep(2)\n",
    "\n",
    "pickle.dump(lst_of_das_dict, open(\"../res/national_alldataset_das_dict_NEW.pkl\", \"wb\"))"
   ]
  },
  {
   "cell_type": "markdown",
   "source": [
    "## Step#2: "
   ],
   "metadata": {
    "collapsed": false
   },
   "id": "c1ab7a48a7c12591"
  },
  {
   "cell_type": "code",
   "execution_count": null,
   "outputs": [],
   "source": [
    "import random\n",
    "import json\n",
    "import time\n",
    "import os\n",
    "from requests_html import HTMLSession\n",
    "import re\n",
    "import pickle\n",
    "from tqdm import tqdm\n",
    "import sys\n",
    "import csv\n",
    "import urllib.request"
   ],
   "metadata": {
    "collapsed": false
   },
   "id": "5081981d9374253"
  }
 ],
 "metadata": {
  "kernelspec": {
   "display_name": "Python 3",
   "language": "python",
   "name": "python3"
  },
  "language_info": {
   "codemirror_mode": {
    "name": "ipython",
    "version": 2
   },
   "file_extension": ".py",
   "mimetype": "text/x-python",
   "name": "python",
   "nbconvert_exporter": "python",
   "pygments_lexer": "ipython2",
   "version": "2.7.6"
  }
 },
 "nbformat": 4,
 "nbformat_minor": 5
}
