{
 "cells": [
  {
   "cell_type": "markdown",
   "source": [
    "# QA/QC \n",
    "- \n",
    "- What is QA/QC \n",
    "The task of annotating the quality of collected data:\n",
    "    - GOOD\n",
    "    - BAD\n",
    "    - SUSPECT\n",
    "    - UNKNOWN\n",
    "- Why QA/QC is needed\n",
    "The quality assurance and control of data collected from sensor is very important to make sure the applicability.\n",
    "\n",
    "- What are methods to annotate data with QA/QC flags\n",
    "- Why thresholds are necessary\n",
    "- What current data is avaiable which has QA/QC annotations\n",
    "- How we are trying to estimate\n",
    "In the CIOOS Atlantic, only datasets provided by CMAR contain quality check flags related to sea surface temperature, dissolve oxygen, salinity, and depth."
   ],
   "metadata": {
    "collapsed": false
   },
   "id": "a4e4c62e054a58af"
  },
  {
   "cell_type": "code",
   "execution_count": null,
   "outputs": [],
   "source": [
    "import pandas as pd\n",
    "import math"
   ],
   "metadata": {
    "collapsed": false
   },
   "id": "fa99dd4f930f7ece"
  },
  {
   "cell_type": "markdown",
   "source": [
    "## Step#1:  Download the data as csv\n",
    "The csv file contain first column as field name and second column contains the unit of each value.\n",
    "\n",
    "## Step#2: Replacing String flag into int Flags\n",
    "By default, the raw data contains flag in String but for easy to process we replace string into integer to optimize. We save the a new file as .csv"
   ],
   "metadata": {
    "collapsed": false
   },
   "id": "719e7b4e683cfdd1"
  },
  {
   "cell_type": "code",
   "execution_count": null,
   "outputs": [],
   "source": [
    "class QartodFlags:\n",
    "    \"\"\"Primary flags for QARTOD.\"\"\"\n",
    "    GOOD = 1\n",
    "    UNKNOWN = 2\n",
    "    SUSPECT = 3\n",
    "    FAIL = 4\n",
    "    MISSING = 9\n",
    "\n",
    "################# REPLACE FLAGS FROM STRING TO INT FROM CSV##################\n",
    "def custom_replacement(value):\n",
    "    if value == 'Not Evaluated':\n",
    "        return QartodFlags.UNKNOWN\n",
    "    elif value == 'Pass':\n",
    "        return QartodFlags.GOOD\n",
    "    elif value == 'Suspect/Of Interest':\n",
    "        return QartodFlags.SUSPECT\n",
    "    elif value == 'Fail':\n",
    "        return QartodFlags.FAIL\n",
    "    elif math.isnan(float(value)):\n",
    "        return -1\n",
    "    else:\n",
    "        print(f\"Unknown [{value}]\")\n",
    "\n",
    "    return value\n",
    "\n",
    "csv_name = \"D://CIOOS-Full-Data/\"\n",
    "# if the file is big then process into chunks\n",
    "df_chunks = pd.read_csv(csv_name, chunksize=10000)\n",
    "columns_ = None\n",
    "header_written = False\n",
    "for df in df_chunks:\n",
    "    if columns_ is None:\n",
    "        lst_col  = list(df.columns)\n",
    "        # columns which starts with `qc_` are flag columns\n",
    "        columns_ = [col for col in lst_col if \"qc\" in col.lower()]\n",
    "    for col in columns_:\n",
    "        df[col] = df[col].apply(custom_replacement)\n",
    "\n",
    "    df.to_csv(csv_name.replace(\".csv\", \"_FlagCode.csv\") , index=False, mode='a', header= not header_written)\n",
    "    header_written = True\n",
    "#######################################################"
   ],
   "metadata": {
    "collapsed": false
   },
   "id": "e862cf9115ec6012"
  },
  {
   "cell_type": "markdown",
   "source": [
    "## Step#3: Grouping the data\n",
    "The data is naturally grouped into station and sensor. "
   ],
   "metadata": {
    "collapsed": false
   },
   "id": "b65471eddff931ae"
  },
  {
   "cell_type": "code",
   "execution_count": null,
   "outputs": [],
   "source": [],
   "metadata": {
    "collapsed": false
   },
   "id": "5b786c97d7742f56"
  },
  {
   "cell_type": "markdown",
   "source": [
    "## Current Feature Set:\n",
    "1)\tRolling Standard Deviation\n",
    "2)\tPast-window mean – current value\n",
    "3)\tFuture-window mean – current value\n",
    "4)\tFuture-window mean – Past-window mean\n",
    "5)\tcurrent value – ( (lead value – lag value)  / 2)\n",
    "6)\tMonth Average Hourly Change – (lag Value – current Value)\n",
    "7)\tMonth Average Hourly Change – (lead Value – current Value)\n",
    "8)\t(Current Value – q_997) if current value > q_997 else 0\n",
    "9)\t(Current Value – q_003) if current value < q_003 else 0\n",
    "10)\t (Current Value – fwq_997) if current value > fwq_997 else 0\n",
    "11)\t(Current Value – fwq_003) if current value > fwq_003 else 0\n",
    "12)\tMonth (1 - 12)\n"
   ],
   "metadata": {
    "collapsed": false
   },
   "id": "b2676faf95170e41"
  },
  {
   "cell_type": "code",
   "execution_count": null,
   "outputs": [],
   "source": [],
   "metadata": {
    "collapsed": false
   },
   "id": "7e60a24286894cc6"
  }
 ],
 "metadata": {
  "kernelspec": {
   "display_name": "Python 3",
   "language": "python",
   "name": "python3"
  },
  "language_info": {
   "codemirror_mode": {
    "name": "ipython",
    "version": 2
   },
   "file_extension": ".py",
   "mimetype": "text/x-python",
   "name": "python",
   "nbconvert_exporter": "python",
   "pygments_lexer": "ipython2",
   "version": "2.7.6"
  }
 },
 "nbformat": 4,
 "nbformat_minor": 5
}
