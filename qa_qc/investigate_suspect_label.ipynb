{
 "cells": [
  {
   "cell_type": "markdown",
   "source": [
    "# Saving Suspect Samples\n",
    "\n",
    "This notebook contains the code to extracts sequence sample from data and saves only suspect ones. The reason to develop this code is to study the behavior of suspect example accross the data. "
   ],
   "metadata": {
    "collapsed": false
   },
   "id": "c21dda1fab294635"
  },
  {
   "cell_type": "code",
   "execution_count": null,
   "outputs": [],
   "source": [
    "from qa_qc.ai_utils import get_file_names\n",
    "import pandas as pd\n",
    "import os\n",
    "from qa_qc.ai_utils import generate_time_windows, QartodFlags\n",
    "from tqdm import tqdm\n",
    "\n",
    "eov_col_name = 'temperature'\n",
    "eov_flag_name = 'qc_flag_temperature'"
   ],
   "metadata": {
    "collapsed": false
   },
   "id": "cefb4c9f35d6ddae"
  },
  {
   "cell_type": "code",
   "execution_count": null,
   "outputs": [],
   "source": [
    "parent_ = \"D://CIOOS-Full-Data/chunking/\"\n",
    "chunk_dir = os.path.join(parent_,\"Inverness/\")\n",
    "\n",
    "window_hour = 12\n",
    "file_names = get_file_names(chunk_dir)\n",
    "suspect_df = []\n",
    "for file_name in tqdm(file_names):\n",
    "    print(f\"Processing : [{file_name}]\")\n",
    "    df = pd.read_csv(file_name, usecols=['time', eov_flag_name, eov_col_name])\n",
    "    df['time'] = pd.to_datetime(df['time'])\n",
    "\n",
    "    # Feature engineering from window\n",
    "    lst_of_seq_ = generate_time_windows(df, window_hours=window_hour, min_rows_in_chunk=10)\n",
    "    for current_, past_, future_ in lst_of_seq_:\n",
    "        label = current_[eov_flag_name]\n",
    "        if label == QartodFlags.SUSPECT:\n",
    "            su_df = pd.concat([past_.reset_index(drop=True), current_.to_frame().T.reset_index(drop=True), future_.reset_index(drop=True)])\n",
    "            suspect_df.append(su_df)\n",
    "\n",
    "\n",
    "df__ = pd.concat(suspect_df, axis=0)\n",
    "df__.drop_duplicates(inplace=True)\n",
    "df__.to_csv(os.path.join(parent_, f\"{os.path.basename(os.path.dirname(chunk_dir))}__SUSPECT.csv\"), index=False)\n",
    "\n",
    "# dir_ = \"D:/CIOOS-Full-Data/chunking/\"\n",
    "# for rt, dir_, files in os.walk(dir_):\n",
    "#     for fl in files:\n",
    "#         if \"SUSPECT.csv\" in fl:\n",
    "#             fapath_ = os.path.join(rt, fl)\n",
    "#             df_ = pd.read_csv(fapath_)\n",
    "#             print(df_.shape)\n",
    "#             df_.drop_duplicates(inplace=True)\n",
    "#             fapath_ = fapath_.replace(\".csv\",\"_noduplicate.csv\")\n",
    "#             df_.to_csv(fapath_, index=False)"
   ],
   "metadata": {
    "collapsed": false
   },
   "id": "3e1f8a70f420edf6"
  }
 ],
 "metadata": {
  "kernelspec": {
   "display_name": "Python 3",
   "language": "python",
   "name": "python3"
  },
  "language_info": {
   "codemirror_mode": {
    "name": "ipython",
    "version": 2
   },
   "file_extension": ".py",
   "mimetype": "text/x-python",
   "name": "python",
   "nbconvert_exporter": "python",
   "pygments_lexer": "ipython2",
   "version": "2.7.6"
  }
 },
 "nbformat": 4,
 "nbformat_minor": 5
}
