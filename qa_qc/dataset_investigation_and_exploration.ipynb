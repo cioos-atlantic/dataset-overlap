{
 "cells": [
  {
   "cell_type": "markdown",
   "source": [
    "# Saving Suspect Samples\n",
    "\n",
    "This notebook contains the code to extracts sequence sample from data and saves only suspect ones. The reason to develop this code is to study the behavior of suspect example accross the data. "
   ],
   "metadata": {
    "collapsed": false
   },
   "id": "c21dda1fab294635"
  },
  {
   "cell_type": "code",
   "execution_count": null,
   "outputs": [],
   "source": [
    "from qa_qc.ai_utils import get_file_names\n",
    "import pandas as pd\n",
    "import os\n",
    "from qa_qc.ai_utils import generate_time_windows, QartodFlags\n",
    "from tqdm import tqdm\n",
    "\n",
    "eov_col_name = 'temperature'\n",
    "eov_flag_name = 'qc_flag_temperature'"
   ],
   "metadata": {
    "collapsed": false
   },
   "id": "cefb4c9f35d6ddae"
  },
  {
   "cell_type": "code",
   "execution_count": null,
   "outputs": [],
   "source": [
    "parent_ = \"D://CIOOS-Full-Data/chunking/\"\n",
    "chunk_dir = os.path.join(parent_,\"Inverness/\")\n",
    "\n",
    "window_hour = 12\n",
    "file_names = get_file_names(chunk_dir)\n",
    "suspect_df = []\n",
    "for file_name in tqdm(file_names):\n",
    "    print(f\"Processing : [{file_name}]\")\n",
    "    df = pd.read_csv(file_name, usecols=['time', eov_flag_name, eov_col_name])\n",
    "    df['time'] = pd.to_datetime(df['time'])\n",
    "\n",
    "    # Feature engineering from window\n",
    "    lst_of_seq_ = generate_time_windows(df, window_hours=window_hour, min_rows_in_chunk=10)\n",
    "    for current_, past_, future_ in lst_of_seq_:\n",
    "        label = current_[eov_flag_name]\n",
    "        if label == QartodFlags.SUSPECT:\n",
    "            su_df = pd.concat([past_.reset_index(drop=True), current_.to_frame().T.reset_index(drop=True), future_.reset_index(drop=True)])\n",
    "            suspect_df.append(su_df)\n",
    "\n",
    "\n",
    "df__ = pd.concat(suspect_df, axis=0)\n",
    "df__.drop_duplicates(inplace=True)\n",
    "df__.to_csv(os.path.join(parent_, f\"{os.path.basename(os.path.dirname(chunk_dir))}__SUSPECT.csv\"), index=False)\n",
    "\n",
    "# dir_ = \"D:/CIOOS-Full-Data/chunking/\"\n",
    "# for rt, dir_, files in os.walk(dir_):\n",
    "#     for fl in files:\n",
    "#         if \"SUSPECT.csv\" in fl:\n",
    "#             fapath_ = os.path.join(rt, fl)\n",
    "#             df_ = pd.read_csv(fapath_)\n",
    "#             print(df_.shape)\n",
    "#             df_.drop_duplicates(inplace=True)\n",
    "#             fapath_ = fapath_.replace(\".csv\",\"_noduplicate.csv\")\n",
    "#             df_.to_csv(fapath_, index=False)"
   ],
   "metadata": {
    "collapsed": false
   },
   "id": "3e1f8a70f420edf6"
  },
  {
   "cell_type": "markdown",
   "source": [
    "# Plotting Chart of datasets"
   ],
   "metadata": {
    "collapsed": false
   },
   "id": "3460b3d014fd2057"
  },
  {
   "cell_type": "code",
   "execution_count": 2,
   "outputs": [
    {
     "data": {
      "text/html": "        <script type=\"text/javascript\">\n        window.PlotlyConfig = {MathJaxConfig: 'local'};\n        if (window.MathJax && window.MathJax.Hub && window.MathJax.Hub.Config) {window.MathJax.Hub.Config({SVG: {font: \"STIX-Web\"}});}\n        if (typeof require !== 'undefined') {\n        require.undef(\"plotly\");\n        requirejs.config({\n            paths: {\n                'plotly': ['https://cdn.plot.ly/plotly-2.35.2.min']\n            }\n        });\n        require(['plotly'], function(Plotly) {\n            window._Plotly = Plotly;\n        });\n        }\n        </script>\n        "
     },
     "metadata": {},
     "output_type": "display_data"
    }
   ],
   "source": [
    "import plotly.express as px\n",
    "import pandas as pd\n",
    "import os\n",
    "import re\n",
    "from ai_utils import get_file_names\n",
    "import plotly.io as pio\n",
    "import plotly.graph_objects as go\n",
    "from plotly.subplots import make_subplots\n",
    "\n",
    "dir_ = \"D:/CIOOS-Full-Data/chunking/Antigonish/\"\n",
    "fnames_ = get_file_names(dir_)\n",
    "# fnames_ = [\"Cape Breton County Water Quality Data.csv-1.csv\", \"Cape Breton County Water Quality Data.csv-2.csv\"]\n",
    "eov_col_name = 'temperature'\n",
    "eov_flag_name = 'qc_flag_temperature'\n",
    "lst_of_dfs = []\n",
    "map__ = {}\n",
    "for i, fname in enumerate(fnames_):\n",
    "    fname = os.path.basename(fname)\n",
    "    fname = os.path.join(dir_, fname)\n",
    "    df = pd.read_csv(fname, usecols=['time', eov_flag_name, eov_col_name])\n",
    "    df['time'] = pd.to_datetime(df['time'])\n",
    "    df['ID'] = i\n",
    "    map__[i] = fname\n",
    "    lst_of_dfs.append(df)\n",
    "\n",
    "new_df_ = pd.concat(lst_of_dfs)\n",
    "\n",
    "new_df_.sort_values(by=['ID', 'time'], inplace=True)\n",
    "\n",
    "# Unique IDs determine number of plots\n",
    "unique_ids = sorted(new_df_['ID'].unique())\n",
    "num_plots = len(unique_ids)\n",
    "\n",
    "# Create subplot layout\n",
    "fig = make_subplots(\n",
    "    rows=num_plots, cols=1,\n",
    "    shared_xaxes=False,\n",
    "    vertical_spacing=0.002,\n",
    "    subplot_titles=[f\"ID: {map__[id_]}\" for id_ in unique_ids]\n",
    ")\n",
    "\n",
    "# Add single line trace for each ID\n",
    "for idx, id_ in enumerate(unique_ids):\n",
    "    sub_df = new_df_[new_df_['ID'] == id_]\n",
    "    fig.add_trace(\n",
    "        go.Scatter(\n",
    "            x=sub_df['time'],\n",
    "            y=sub_df[eov_col_name],\n",
    "            mode='lines',\n",
    "            name=f'ID {id_}',\n",
    "            showlegend=False\n",
    "        ),\n",
    "        row=idx + 1, col=1\n",
    "    )\n",
    "\n",
    "# Set overall figure layout\n",
    "fig.update_layout(\n",
    "    height=400 * num_plots,\n",
    "    title=\"Scrollable Subplots: Temperature by ID\"\n",
    ")\n",
    "\n",
    "\n",
    "from plotly.offline import init_notebook_mode, iplot\n",
    "\n",
    "# Enable Plotly in the notebook\n",
    "init_notebook_mode(connected=True)\n",
    "\n",
    "fig.show()\n",
    "# # Save scrollable HTML\n",
    "# output_path = os.path.join(dir_, \"visualize_scrollable_subplots.html\")\n",
    "# fig.write_html(output_path)\n",
    "# \n",
    "# print(f\"Saved scrollable subplot HTML to: {output_path}\")"
   ],
   "metadata": {
    "collapsed": false,
    "ExecuteTime": {
     "end_time": "2025-07-21T18:01:17.830880500Z",
     "start_time": "2025-07-21T18:00:30.090115700Z"
    }
   },
   "id": "d0796eec9917b642"
  },
  {
   "cell_type": "markdown",
   "source": [],
   "metadata": {
    "collapsed": false
   },
   "id": "6656c6f91e2c9f3a"
  }
 ],
 "metadata": {
  "kernelspec": {
   "display_name": "Python 3",
   "language": "python",
   "name": "python3"
  },
  "language_info": {
   "codemirror_mode": {
    "name": "ipython",
    "version": 2
   },
   "file_extension": ".py",
   "mimetype": "text/x-python",
   "name": "python",
   "nbconvert_exporter": "python",
   "pygments_lexer": "ipython2",
   "version": "2.7.6"
  }
 },
 "nbformat": 4,
 "nbformat_minor": 5
}
